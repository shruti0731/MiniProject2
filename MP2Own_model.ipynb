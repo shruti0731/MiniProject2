{
  "nbformat": 4,
  "nbformat_minor": 0,
  "metadata": {
    "colab": {
      "provenance": [],
      "authorship_tag": "ABX9TyN2XvO3jUwkhGEJhfOuPEmj",
      "include_colab_link": true
    },
    "kernelspec": {
      "name": "python3",
      "display_name": "Python 3"
    },
    "language_info": {
      "name": "python"
    }
  },
  "cells": [
    {
      "cell_type": "markdown",
      "metadata": {
        "id": "view-in-github",
        "colab_type": "text"
      },
      "source": [
        "<a href=\"https://colab.research.google.com/github/shruti0731/MiniProject2/blob/main/MP2Own_model.ipynb\" target=\"_parent\"><img src=\"https://colab.research.google.com/assets/colab-badge.svg\" alt=\"Open In Colab\"/></a>"
      ]
    },
    {
      "cell_type": "code",
      "execution_count": 1,
      "metadata": {
        "colab": {
          "base_uri": "https://localhost:8080/",
          "height": 108
        },
        "id": "D6yhBj9uxhem",
        "outputId": "56aba2d0-7268-439c-9ec4-03baff988ac5"
      },
      "outputs": [
        {
          "output_type": "display_data",
          "data": {
            "text/plain": [
              "<IPython.core.display.HTML object>"
            ],
            "text/html": [
              "\n",
              "     <input type=\"file\" id=\"files-5908673d-5fcb-4995-9fb9-72cf9a7f5e0f\" name=\"files[]\" multiple disabled\n",
              "        style=\"border:none\" />\n",
              "     <output id=\"result-5908673d-5fcb-4995-9fb9-72cf9a7f5e0f\">\n",
              "      Upload widget is only available when the cell has been executed in the\n",
              "      current browser session. Please rerun this cell to enable.\n",
              "      </output>\n",
              "      <script>// Copyright 2017 Google LLC\n",
              "//\n",
              "// Licensed under the Apache License, Version 2.0 (the \"License\");\n",
              "// you may not use this file except in compliance with the License.\n",
              "// You may obtain a copy of the License at\n",
              "//\n",
              "//      http://www.apache.org/licenses/LICENSE-2.0\n",
              "//\n",
              "// Unless required by applicable law or agreed to in writing, software\n",
              "// distributed under the License is distributed on an \"AS IS\" BASIS,\n",
              "// WITHOUT WARRANTIES OR CONDITIONS OF ANY KIND, either express or implied.\n",
              "// See the License for the specific language governing permissions and\n",
              "// limitations under the License.\n",
              "\n",
              "/**\n",
              " * @fileoverview Helpers for google.colab Python module.\n",
              " */\n",
              "(function(scope) {\n",
              "function span(text, styleAttributes = {}) {\n",
              "  const element = document.createElement('span');\n",
              "  element.textContent = text;\n",
              "  for (const key of Object.keys(styleAttributes)) {\n",
              "    element.style[key] = styleAttributes[key];\n",
              "  }\n",
              "  return element;\n",
              "}\n",
              "\n",
              "// Max number of bytes which will be uploaded at a time.\n",
              "const MAX_PAYLOAD_SIZE = 100 * 1024;\n",
              "\n",
              "function _uploadFiles(inputId, outputId) {\n",
              "  const steps = uploadFilesStep(inputId, outputId);\n",
              "  const outputElement = document.getElementById(outputId);\n",
              "  // Cache steps on the outputElement to make it available for the next call\n",
              "  // to uploadFilesContinue from Python.\n",
              "  outputElement.steps = steps;\n",
              "\n",
              "  return _uploadFilesContinue(outputId);\n",
              "}\n",
              "\n",
              "// This is roughly an async generator (not supported in the browser yet),\n",
              "// where there are multiple asynchronous steps and the Python side is going\n",
              "// to poll for completion of each step.\n",
              "// This uses a Promise to block the python side on completion of each step,\n",
              "// then passes the result of the previous step as the input to the next step.\n",
              "function _uploadFilesContinue(outputId) {\n",
              "  const outputElement = document.getElementById(outputId);\n",
              "  const steps = outputElement.steps;\n",
              "\n",
              "  const next = steps.next(outputElement.lastPromiseValue);\n",
              "  return Promise.resolve(next.value.promise).then((value) => {\n",
              "    // Cache the last promise value to make it available to the next\n",
              "    // step of the generator.\n",
              "    outputElement.lastPromiseValue = value;\n",
              "    return next.value.response;\n",
              "  });\n",
              "}\n",
              "\n",
              "/**\n",
              " * Generator function which is called between each async step of the upload\n",
              " * process.\n",
              " * @param {string} inputId Element ID of the input file picker element.\n",
              " * @param {string} outputId Element ID of the output display.\n",
              " * @return {!Iterable<!Object>} Iterable of next steps.\n",
              " */\n",
              "function* uploadFilesStep(inputId, outputId) {\n",
              "  const inputElement = document.getElementById(inputId);\n",
              "  inputElement.disabled = false;\n",
              "\n",
              "  const outputElement = document.getElementById(outputId);\n",
              "  outputElement.innerHTML = '';\n",
              "\n",
              "  const pickedPromise = new Promise((resolve) => {\n",
              "    inputElement.addEventListener('change', (e) => {\n",
              "      resolve(e.target.files);\n",
              "    });\n",
              "  });\n",
              "\n",
              "  const cancel = document.createElement('button');\n",
              "  inputElement.parentElement.appendChild(cancel);\n",
              "  cancel.textContent = 'Cancel upload';\n",
              "  const cancelPromise = new Promise((resolve) => {\n",
              "    cancel.onclick = () => {\n",
              "      resolve(null);\n",
              "    };\n",
              "  });\n",
              "\n",
              "  // Wait for the user to pick the files.\n",
              "  const files = yield {\n",
              "    promise: Promise.race([pickedPromise, cancelPromise]),\n",
              "    response: {\n",
              "      action: 'starting',\n",
              "    }\n",
              "  };\n",
              "\n",
              "  cancel.remove();\n",
              "\n",
              "  // Disable the input element since further picks are not allowed.\n",
              "  inputElement.disabled = true;\n",
              "\n",
              "  if (!files) {\n",
              "    return {\n",
              "      response: {\n",
              "        action: 'complete',\n",
              "      }\n",
              "    };\n",
              "  }\n",
              "\n",
              "  for (const file of files) {\n",
              "    const li = document.createElement('li');\n",
              "    li.append(span(file.name, {fontWeight: 'bold'}));\n",
              "    li.append(span(\n",
              "        `(${file.type || 'n/a'}) - ${file.size} bytes, ` +\n",
              "        `last modified: ${\n",
              "            file.lastModifiedDate ? file.lastModifiedDate.toLocaleDateString() :\n",
              "                                    'n/a'} - `));\n",
              "    const percent = span('0% done');\n",
              "    li.appendChild(percent);\n",
              "\n",
              "    outputElement.appendChild(li);\n",
              "\n",
              "    const fileDataPromise = new Promise((resolve) => {\n",
              "      const reader = new FileReader();\n",
              "      reader.onload = (e) => {\n",
              "        resolve(e.target.result);\n",
              "      };\n",
              "      reader.readAsArrayBuffer(file);\n",
              "    });\n",
              "    // Wait for the data to be ready.\n",
              "    let fileData = yield {\n",
              "      promise: fileDataPromise,\n",
              "      response: {\n",
              "        action: 'continue',\n",
              "      }\n",
              "    };\n",
              "\n",
              "    // Use a chunked sending to avoid message size limits. See b/62115660.\n",
              "    let position = 0;\n",
              "    do {\n",
              "      const length = Math.min(fileData.byteLength - position, MAX_PAYLOAD_SIZE);\n",
              "      const chunk = new Uint8Array(fileData, position, length);\n",
              "      position += length;\n",
              "\n",
              "      const base64 = btoa(String.fromCharCode.apply(null, chunk));\n",
              "      yield {\n",
              "        response: {\n",
              "          action: 'append',\n",
              "          file: file.name,\n",
              "          data: base64,\n",
              "        },\n",
              "      };\n",
              "\n",
              "      let percentDone = fileData.byteLength === 0 ?\n",
              "          100 :\n",
              "          Math.round((position / fileData.byteLength) * 100);\n",
              "      percent.textContent = `${percentDone}% done`;\n",
              "\n",
              "    } while (position < fileData.byteLength);\n",
              "  }\n",
              "\n",
              "  // All done.\n",
              "  yield {\n",
              "    response: {\n",
              "      action: 'complete',\n",
              "    }\n",
              "  };\n",
              "}\n",
              "\n",
              "scope.google = scope.google || {};\n",
              "scope.google.colab = scope.google.colab || {};\n",
              "scope.google.colab._files = {\n",
              "  _uploadFiles,\n",
              "  _uploadFilesContinue,\n",
              "};\n",
              "})(self);\n",
              "</script> "
            ]
          },
          "metadata": {}
        },
        {
          "output_type": "stream",
          "name": "stdout",
          "text": [
            "Saving gitasopanam.en to gitasopanam.en\n",
            "Saving gitasopanam.sa to gitasopanam.sa\n"
          ]
        }
      ],
      "source": [
        "from google.colab import files\n",
        "\n",
        "uploaded = files.upload()  # upload both your .sa and .en files\n"
      ]
    },
    {
      "cell_type": "code",
      "source": [
        "# Replace with the actual filenames you upload\n",
        "with open(\"gitasopanam.sa\", \"r\", encoding=\"utf-8\") as f:\n",
        "    sanskrit_lines = f.readlines()\n",
        "\n",
        "with open(\"gitasopanam.en\", \"r\", encoding=\"utf-8\") as f:\n",
        "    english_lines = f.readlines()\n"
      ],
      "metadata": {
        "id": "m_xA0oPcxj_F"
      },
      "execution_count": 2,
      "outputs": []
    },
    {
      "cell_type": "code",
      "source": [
        "# 1. Imports\n",
        "import torch\n",
        "import torch.nn as nn\n",
        "import torch.nn.functional as F\n",
        "import random\n",
        "from torch.utils.data import Dataset, DataLoader\n",
        "from collections import Counter\n",
        "from typing import List"
      ],
      "metadata": {
        "id": "28gq5cBKxkHY"
      },
      "execution_count": 3,
      "outputs": []
    },
    {
      "cell_type": "code",
      "source": [
        "# 2. Parameters\n",
        "DEVICE = torch.device(\"cuda\" if torch.cuda.is_available() else \"cpu\")\n",
        "BATCH_SIZE = 32\n",
        "EMBED_SIZE = 256\n",
        "NUM_HEADS = 8\n",
        "NUM_ENCODER_LAYERS = 4\n",
        "NUM_DECODER_LAYERS = 4\n",
        "FFN_HIDDEN = 512\n",
        "MAX_LEN = 100\n",
        "EPOCHS = 20"
      ],
      "metadata": {
        "id": "pH87lBvgxkKB"
      },
      "execution_count": 4,
      "outputs": []
    },
    {
      "cell_type": "code",
      "source": [
        "# 3. Tokenization and Vocab\n",
        "class Vocab:\n",
        "    def __init__(self, texts, min_freq=1):\n",
        "        self.pad_token = \"<pad>\"\n",
        "        self.sos_token = \"<sos>\"\n",
        "        self.eos_token = \"<eos>\"\n",
        "        self.unk_token = \"<unk>\"\n",
        "\n",
        "        tokens = [word for line in texts for word in line.strip().split()]\n",
        "        counter = Counter(tokens)\n",
        "        self.itos = [self.pad_token, self.sos_token, self.eos_token, self.unk_token] + [w for w, c in counter.items() if c >= min_freq]\n",
        "        self.stoi = {w: i for i, w in enumerate(self.itos)}\n",
        "\n",
        "    def encode(self, text):\n",
        "        return [self.stoi.get(w, self.stoi[self.unk_token]) for w in text.strip().split()] + [self.stoi[self.eos_token]]\n",
        "\n",
        "    def decode(self, tokens):\n",
        "        words = [self.itos[token] for token in tokens if token != self.stoi[self.eos_token]]\n",
        "        return \" \".join(words)\n",
        "\n",
        "    def __len__(self):\n",
        "        return len(self.itos)"
      ],
      "metadata": {
        "id": "OMxvNvOexkNk"
      },
      "execution_count": 5,
      "outputs": []
    },
    {
      "cell_type": "code",
      "source": [
        "# 4. Dataset Preparation\n",
        "class TranslationDataset(Dataset):\n",
        "    def __init__(self, src_lines, tgt_lines, src_vocab, tgt_vocab, max_len=MAX_LEN):\n",
        "        self.data = list(zip(src_lines, tgt_lines))\n",
        "        self.src_vocab = src_vocab\n",
        "        self.tgt_vocab = tgt_vocab\n",
        "        self.max_len = max_len\n",
        "\n",
        "    def __len__(self):\n",
        "        return len(self.data)\n",
        "\n",
        "    def __getitem__(self, idx):\n",
        "        src, tgt = self.data[idx]\n",
        "        src_ids = self.src_vocab.encode(src)[:self.max_len]\n",
        "        tgt_ids = [self.tgt_vocab.stoi[self.tgt_vocab.sos_token]] + self.tgt_vocab.encode(tgt)[:self.max_len]\n",
        "        return torch.tensor(src_ids), torch.tensor(tgt_ids)\n"
      ],
      "metadata": {
        "id": "r3hZ-CEcxx-Z"
      },
      "execution_count": 6,
      "outputs": []
    },
    {
      "cell_type": "code",
      "source": [
        "# 5. Collate Function\n",
        "def collate_fn(batch):\n",
        "    src_batch, tgt_batch = zip(*batch)\n",
        "    src_pad = nn.utils.rnn.pad_sequence(src_batch, batch_first=True, padding_value=src_vocab.stoi[src_vocab.pad_token])\n",
        "    tgt_pad = nn.utils.rnn.pad_sequence(tgt_batch, batch_first=True, padding_value=tgt_vocab.stoi[tgt_vocab.pad_token])\n",
        "    return src_pad.to(DEVICE), tgt_pad.to(DEVICE)\n"
      ],
      "metadata": {
        "id": "D2aSKAh9xyCC"
      },
      "execution_count": 7,
      "outputs": []
    },
    {
      "cell_type": "code",
      "source": [
        "# Build vocabs\n",
        "src_vocab = Vocab(sanskrit_lines)\n",
        "tgt_vocab = Vocab(english_lines)\n"
      ],
      "metadata": {
        "id": "WZ3EBiTSxyKe"
      },
      "execution_count": 8,
      "outputs": []
    },
    {
      "cell_type": "code",
      "source": [
        "# Create dataset and dataloader\n",
        "dataset = TranslationDataset(sanskrit_lines, english_lines, src_vocab, tgt_vocab)\n",
        "dataloader = DataLoader(dataset, batch_size=BATCH_SIZE, shuffle=True, collate_fn=collate_fn)"
      ],
      "metadata": {
        "id": "Ffuk7ETgx429"
      },
      "execution_count": 9,
      "outputs": []
    },
    {
      "cell_type": "code",
      "source": [
        "#  6. Transformer Model Definition\n",
        "class Transformer(nn.Module):\n",
        "    def __init__(self, src_vocab_size, tgt_vocab_size):\n",
        "        super().__init__()\n",
        "        self.src_tok_emb = nn.Embedding(src_vocab_size, EMBED_SIZE)\n",
        "        self.tgt_tok_emb = nn.Embedding(tgt_vocab_size, EMBED_SIZE)\n",
        "        self.positional_encoding = nn.Parameter(torch.rand(MAX_LEN, EMBED_SIZE))\n",
        "\n",
        "        self.transformer = nn.Transformer(\n",
        "            d_model=EMBED_SIZE,\n",
        "            nhead=NUM_HEADS,\n",
        "            num_encoder_layers=NUM_ENCODER_LAYERS,\n",
        "            num_decoder_layers=NUM_DECODER_LAYERS,\n",
        "            dim_feedforward=FFN_HIDDEN,\n",
        "            dropout=0.1,\n",
        "            batch_first=True\n",
        "        )\n",
        "\n",
        "        self.fc_out = nn.Linear(EMBED_SIZE, tgt_vocab_size)\n",
        "\n",
        "    def forward(self, src, tgt):\n",
        "        src_mask = None\n",
        "        tgt_mask = self.transformer.generate_square_subsequent_mask(tgt.size(1)).to(DEVICE)\n",
        "\n",
        "        src_emb = self.src_tok_emb(src) + self.positional_encoding[:src.size(1), :]\n",
        "        tgt_emb = self.tgt_tok_emb(tgt) + self.positional_encoding[:tgt.size(1), :]\n",
        "\n",
        "        output = self.transformer(src_emb, tgt_emb, src_mask=src_mask, tgt_mask=tgt_mask)\n",
        "        return self.fc_out(output)"
      ],
      "metadata": {
        "id": "kAwXikPlx45-"
      },
      "execution_count": 10,
      "outputs": []
    },
    {
      "cell_type": "code",
      "source": [
        "# Instantiate model\n",
        "model = Transformer(len(src_vocab), len(tgt_vocab)).to(DEVICE)\n"
      ],
      "metadata": {
        "id": "7EAZRdJ2x49T"
      },
      "execution_count": 11,
      "outputs": []
    },
    {
      "cell_type": "code",
      "source": [
        "# 7. Training Setup\n",
        "optimizer = torch.optim.Adam(model.parameters(), lr=1e-4)\n",
        "criterion = nn.CrossEntropyLoss(ignore_index=tgt_vocab.stoi[tgt_vocab.pad_token])\n"
      ],
      "metadata": {
        "id": "20uBg-ScyBC5"
      },
      "execution_count": 12,
      "outputs": []
    },
    {
      "cell_type": "code",
      "source": [
        "# 8. Training Loop\n",
        "# def train():\n",
        "#     model.train()\n",
        "#     for epoch in range(EPOCHS):\n",
        "#         total_loss = 0\n",
        "#         for src, tgt in dataloader:\n",
        "#             tgt_input = tgt[:, :-1]\n",
        "#             tgt_output = tgt[:, 1:]\n",
        "\n",
        "#             output = model(src, tgt_input)\n",
        "#             output = output.reshape(-1, output.shape[-1])\n",
        "#             tgt_output = tgt_output.reshape(-1)\n",
        "\n",
        "#             loss = criterion(output, tgt_output)\n",
        "#             optimizer.zero_grad()\n",
        "#             loss.backward()\n",
        "#             optimizer.step()\n",
        "\n",
        "#             total_loss += loss.item()\n",
        "#         print(f\"Epoch {epoch+1}, Loss: {total_loss/len(dataloader):.4f}\")\n",
        "\n",
        "\n",
        "# train and acc\n",
        "import torch.nn as nn\n",
        "\n",
        "# Define the loss function\n",
        "loss_fn = nn.CrossEntropyLoss(ignore_index=tgt_vocab.stoi[tgt_vocab.pad_token])\n",
        "\n",
        "def train():\n",
        "    for epoch in range(EPOCHS):\n",
        "        model.train()\n",
        "        total_loss = 0\n",
        "        correct_tokens = 0\n",
        "        total_tokens = 0\n",
        "\n",
        "        for src, tgt in dataloader:\n",
        "            tgt_input = tgt[:, :-1]\n",
        "            tgt_output = tgt[:, 1:]\n",
        "\n",
        "            optimizer.zero_grad()\n",
        "            output = model(src, tgt_input)\n",
        "            loss = loss_fn(output.reshape(-1, output.shape[-1]), tgt_output.reshape(-1))\n",
        "            loss.backward()\n",
        "            optimizer.step()\n",
        "            total_loss += loss.item()\n",
        "\n",
        "            # Accuracy calculation\n",
        "            preds = output.argmax(dim=-1)\n",
        "            mask = tgt_output != tgt_vocab.stoi[tgt_vocab.pad_token]\n",
        "            correct_tokens += (preds == tgt_output).masked_select(mask).sum().item()\n",
        "            total_tokens += mask.sum().item()\n",
        "\n",
        "        train_accuracy = correct_tokens / total_tokens\n",
        "        print(f\"Epoch {epoch+1}, Loss: {total_loss/len(dataloader):.4f}, Train Accuracy: {train_accuracy * 100:.2f}%\")\n",
        "\n"
      ],
      "metadata": {
        "id": "ivCWBFA7yEIT"
      },
      "execution_count": 35,
      "outputs": []
    },
    {
      "cell_type": "code",
      "source": [
        "# 9. Inference\n",
        "def translate(sentence):\n",
        "    model.eval()\n",
        "    with torch.no_grad():\n",
        "        src = torch.tensor(src_vocab.encode(sentence)).unsqueeze(0).to(DEVICE)\n",
        "        tgt = torch.tensor([tgt_vocab.stoi[tgt_vocab.sos_token]]).unsqueeze(0).to(DEVICE)\n",
        "\n",
        "        for _ in range(MAX_LEN):\n",
        "            output = model(src, tgt)\n",
        "            next_token = output[:, -1, :].argmax(dim=-1).unsqueeze(1)\n",
        "            tgt = torch.cat((tgt, next_token), dim=1)\n",
        "            if next_token.item() == tgt_vocab.stoi[tgt_vocab.eos_token]:\n",
        "                break\n",
        "\n",
        "        return tgt_vocab.decode(tgt.squeeze().tolist()[1:])\n"
      ],
      "metadata": {
        "id": "eB1WUhkHyEL1"
      },
      "execution_count": 36,
      "outputs": []
    },
    {
      "cell_type": "code",
      "source": [
        "# 10. Run Training\n",
        "train()\n"
      ],
      "metadata": {
        "colab": {
          "base_uri": "https://localhost:8080/"
        },
        "id": "QjW-M4psyBGN",
        "outputId": "74f5b683-f871-4d35-94cc-06a9bf6efb1f"
      },
      "execution_count": 37,
      "outputs": [
        {
          "output_type": "stream",
          "name": "stdout",
          "text": [
            "Epoch 1, Loss: 1.6665, Train Accuracy: 68.19%\n",
            "Epoch 2, Loss: 1.5574, Train Accuracy: 70.21%\n",
            "Epoch 3, Loss: 1.4481, Train Accuracy: 72.44%\n",
            "Epoch 4, Loss: 1.3463, Train Accuracy: 74.63%\n",
            "Epoch 5, Loss: 1.2457, Train Accuracy: 76.52%\n",
            "Epoch 6, Loss: 1.1566, Train Accuracy: 78.49%\n",
            "Epoch 7, Loss: 1.0622, Train Accuracy: 80.60%\n",
            "Epoch 8, Loss: 0.9726, Train Accuracy: 82.71%\n",
            "Epoch 9, Loss: 0.8853, Train Accuracy: 84.71%\n",
            "Epoch 10, Loss: 0.8125, Train Accuracy: 86.16%\n",
            "Epoch 11, Loss: 0.7349, Train Accuracy: 88.09%\n",
            "Epoch 12, Loss: 0.6650, Train Accuracy: 89.47%\n",
            "Epoch 13, Loss: 0.6003, Train Accuracy: 90.95%\n",
            "Epoch 14, Loss: 0.5436, Train Accuracy: 92.17%\n",
            "Epoch 15, Loss: 0.4868, Train Accuracy: 93.23%\n",
            "Epoch 16, Loss: 0.4357, Train Accuracy: 94.18%\n",
            "Epoch 17, Loss: 0.3935, Train Accuracy: 94.80%\n",
            "Epoch 18, Loss: 0.3584, Train Accuracy: 95.50%\n",
            "Epoch 19, Loss: 0.3147, Train Accuracy: 96.19%\n",
            "Epoch 20, Loss: 0.2826, Train Accuracy: 96.93%\n"
          ]
        }
      ]
    },
    {
      "cell_type": "code",
      "source": [
        "def compute_accuracy(model, dataloader):\n",
        "    model.eval()\n",
        "    correct = 0\n",
        "    total = 0\n",
        "    with torch.no_grad():\n",
        "        for src, tgt in dataloader:\n",
        "            tgt_input = tgt[:, :-1]\n",
        "            tgt_output = tgt[:, 1:]\n",
        "\n",
        "            output = model(src, tgt_input)\n",
        "            preds = output.argmax(dim=-1)\n",
        "\n",
        "            mask = tgt_output != tgt_vocab.stoi[tgt_vocab.pad_token]\n",
        "            correct += (preds == tgt_output).masked_select(mask).sum().item()\n",
        "            total += mask.sum().item()\n",
        "\n",
        "    acc = correct / total\n",
        "    print(f\"Token-level Accuracy: {acc:.4f}\")\n"
      ],
      "metadata": {
        "id": "PO6_sm0T17Fn"
      },
      "execution_count": 38,
      "outputs": []
    },
    {
      "cell_type": "code",
      "source": [
        "compute_accuracy(model, dataloader)"
      ],
      "metadata": {
        "colab": {
          "base_uri": "https://localhost:8080/"
        },
        "id": "IbvU8ivH13KT",
        "outputId": "d62bb567-099e-4e1e-9234-8664f85074af"
      },
      "execution_count": 39,
      "outputs": [
        {
          "output_type": "stream",
          "name": "stdout",
          "text": [
            "Token-level Accuracy: 0.9953\n"
          ]
        }
      ]
    },
    {
      "cell_type": "code",
      "source": [
        "def compute_sequence_accuracy(model, src_lines, tgt_lines, max_samples=100):\n",
        "    model.eval()\n",
        "    correct = 0\n",
        "    total = min(len(src_lines), max_samples)\n",
        "\n",
        "    for i in range(total):\n",
        "        pred = translate(src_lines[i]).strip().lower()\n",
        "        ref = tgt_lines[i].strip().lower()\n",
        "        if pred == ref:\n",
        "            correct += 1\n",
        "\n",
        "    acc = correct / total\n",
        "    print(f\"Sequence-Level Accuracy: {acc * 100:.2f}% on {total} samples\")\n"
      ],
      "metadata": {
        "id": "jEaxDQ_Y7AS4"
      },
      "execution_count": 40,
      "outputs": []
    },
    {
      "cell_type": "code",
      "source": [
        "compute_sequence_accuracy(model, sanskrit_lines, english_lines)\n"
      ],
      "metadata": {
        "colab": {
          "base_uri": "https://localhost:8080/"
        },
        "id": "ErDiTe6D7EQW",
        "outputId": "349ad39b-36af-417a-fab4-1724c3a944ea"
      },
      "execution_count": 41,
      "outputs": [
        {
          "output_type": "stream",
          "name": "stdout",
          "text": [
            "Sequence-Level Accuracy: 89.00% on 100 samples\n"
          ]
        }
      ]
    },
    {
      "cell_type": "code",
      "source": [
        "# ✅ Save the trained model\n",
        "torch.save(model.state_dict(), \"sanskrit_translator.pth\")\n",
        "\n",
        "# ✅ Later, or in a new session, reload like this:\n",
        "model.load_state_dict(torch.load(\"sanskrit_translator.pth\"))\n",
        "model.eval()\n"
      ],
      "metadata": {
        "colab": {
          "base_uri": "https://localhost:8080/"
        },
        "id": "2f7JIZ6rzsNS",
        "outputId": "b1fac0a5-c979-4571-998b-3f08623c8722"
      },
      "execution_count": 42,
      "outputs": [
        {
          "output_type": "execute_result",
          "data": {
            "text/plain": [
              "Transformer(\n",
              "  (src_tok_emb): Embedding(6517, 256)\n",
              "  (tgt_tok_emb): Embedding(5661, 256)\n",
              "  (transformer): Transformer(\n",
              "    (encoder): TransformerEncoder(\n",
              "      (layers): ModuleList(\n",
              "        (0-3): 4 x TransformerEncoderLayer(\n",
              "          (self_attn): MultiheadAttention(\n",
              "            (out_proj): NonDynamicallyQuantizableLinear(in_features=256, out_features=256, bias=True)\n",
              "          )\n",
              "          (linear1): Linear(in_features=256, out_features=512, bias=True)\n",
              "          (dropout): Dropout(p=0.1, inplace=False)\n",
              "          (linear2): Linear(in_features=512, out_features=256, bias=True)\n",
              "          (norm1): LayerNorm((256,), eps=1e-05, elementwise_affine=True)\n",
              "          (norm2): LayerNorm((256,), eps=1e-05, elementwise_affine=True)\n",
              "          (dropout1): Dropout(p=0.1, inplace=False)\n",
              "          (dropout2): Dropout(p=0.1, inplace=False)\n",
              "        )\n",
              "      )\n",
              "      (norm): LayerNorm((256,), eps=1e-05, elementwise_affine=True)\n",
              "    )\n",
              "    (decoder): TransformerDecoder(\n",
              "      (layers): ModuleList(\n",
              "        (0-3): 4 x TransformerDecoderLayer(\n",
              "          (self_attn): MultiheadAttention(\n",
              "            (out_proj): NonDynamicallyQuantizableLinear(in_features=256, out_features=256, bias=True)\n",
              "          )\n",
              "          (multihead_attn): MultiheadAttention(\n",
              "            (out_proj): NonDynamicallyQuantizableLinear(in_features=256, out_features=256, bias=True)\n",
              "          )\n",
              "          (linear1): Linear(in_features=256, out_features=512, bias=True)\n",
              "          (dropout): Dropout(p=0.1, inplace=False)\n",
              "          (linear2): Linear(in_features=512, out_features=256, bias=True)\n",
              "          (norm1): LayerNorm((256,), eps=1e-05, elementwise_affine=True)\n",
              "          (norm2): LayerNorm((256,), eps=1e-05, elementwise_affine=True)\n",
              "          (norm3): LayerNorm((256,), eps=1e-05, elementwise_affine=True)\n",
              "          (dropout1): Dropout(p=0.1, inplace=False)\n",
              "          (dropout2): Dropout(p=0.1, inplace=False)\n",
              "          (dropout3): Dropout(p=0.1, inplace=False)\n",
              "        )\n",
              "      )\n",
              "      (norm): LayerNorm((256,), eps=1e-05, elementwise_affine=True)\n",
              "    )\n",
              "  )\n",
              "  (fc_out): Linear(in_features=256, out_features=5661, bias=True)\n",
              ")"
            ]
          },
          "metadata": {},
          "execution_count": 42
        }
      ]
    },
    {
      "cell_type": "markdown",
      "source": [],
      "metadata": {
        "id": "UBd_ZoqJ2ANl"
      }
    },
    {
      "cell_type": "code",
      "source": [
        "print(translate(\"पिता कार्यालयात् गृहम् आगच्छति ।\"))\n",
        "print(translate(\"अहं गच्छामि ।\"))"
      ],
      "metadata": {
        "colab": {
          "base_uri": "https://localhost:8080/"
        },
        "id": "ufYeuDl8zFv-",
        "outputId": "6c9c7d16-7301-4ecc-861a-818d4f8f5292"
      },
      "execution_count": 43,
      "outputs": [
        {
          "output_type": "stream",
          "name": "stdout",
          "text": [
            "Father comes home from office.\n",
            "I am a devotee.\n"
          ]
        }
      ]
    },
    {
      "cell_type": "code",
      "source": [
        "print(translate(\"कर्मण्येवाधिकारस्ते मा फलेषु कदाचन।\"))\n",
        "print(translate(\"धर्मक्षेत्रे कुरुक्षेत्रे समवेता युयुत्सवः\"))"
      ],
      "metadata": {
        "colab": {
          "base_uri": "https://localhost:8080/"
        },
        "id": "rn0IyMwX5rvc",
        "outputId": "0b55fd4e-7dba-454e-b55b-962eecd1578a"
      },
      "execution_count": 45,
      "outputs": [
        {
          "output_type": "stream",
          "name": "stdout",
          "text": [
            "In which river there is giving other two studying to you .\n",
            "Have fondness in you .\n"
          ]
        }
      ]
    }
  ]
}